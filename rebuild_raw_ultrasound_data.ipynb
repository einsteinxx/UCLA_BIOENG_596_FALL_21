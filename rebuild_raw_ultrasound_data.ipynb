{
  "nbformat": 4,
  "nbformat_minor": 0,
  "metadata": {
    "colab": {
      "name": "rebuild_raw_ultrasound_data.ipynb",
      "provenance": [],
      "collapsed_sections": [],
      "authorship_tag": "ABX9TyPq8xUYNxaGAlX31pNWgYR6",
      "include_colab_link": true
    },
    "kernelspec": {
      "name": "python3",
      "display_name": "Python 3"
    },
    "language_info": {
      "name": "python"
    }
  },
  "cells": [
    {
      "cell_type": "markdown",
      "metadata": {
        "id": "view-in-github",
        "colab_type": "text"
      },
      "source": [
        "<a href=\"https://colab.research.google.com/github/einsteinxx/UCLA_BIOENG_596_FALL_21/blob/main/rebuild_raw_ultrasound_data.ipynb\" target=\"_parent\"><img src=\"https://colab.research.google.com/assets/colab-badge.svg\" alt=\"Open In Colab\"/></a>"
      ]
    },
    {
      "cell_type": "code",
      "execution_count": 1,
      "metadata": {
        "colab": {
          "base_uri": "https://localhost:8080/"
        },
        "id": "hu1L4BMbcwoV",
        "outputId": "03a7ba24-a058-4b2d-903b-81624f70f055"
      },
      "outputs": [
        {
          "output_type": "stream",
          "name": "stdout",
          "text": [
            "\u001b[K     |████████████████████████████████| 2.0 MB 5.3 MB/s \n",
            "\u001b[K     |████████████████████████████████| 256 kB 5.3 MB/s \n",
            "\u001b[?25hMounted at /content/gdrive\n"
          ]
        }
      ],
      "source": [
        "\n",
        "import os\n",
        "import math #for ceil function\n",
        "import numpy as np\n",
        "import matplotlib.pyplot as plt\n",
        "import matplotlib.patches as patches\n",
        "import gc  #debug memory leaks in matplotlib\n",
        "import csv #read in description files\n",
        "import random #used to select random slice for patches\n",
        "import cv2\n",
        "import re #regexp for BUSI files\n",
        "from skimage import exposure  #image equalization\n",
        "import torchvision.transforms as transforms #for imagenet specific stage2 normalization\n",
        "\n",
        "################################################################################\n",
        "#ULTRASOUND NEEDS\n",
        "from bs4 import BeautifulSoup #to read the XML annotation files\n",
        "\n",
        "import PIL\n",
        "#from PIL import Image\n",
        "# Open the image form working directory\n",
        "#image = Image.open(full_file)\n",
        "\n",
        "from matplotlib import image\n",
        "from ast import literal_eval #used to break out bounding boxes from strings\n",
        "import time\n",
        "\n",
        "\n",
        "from numpy import clip\n",
        "\n",
        "################################################################################\n",
        "\n",
        "eps = 1e-16 #keep div by 0 away\n",
        "\n",
        "\n",
        "from google.colab.patches import cv2_imshow\n",
        "#\n",
        "# Read Data from google drive\n",
        "#\n",
        "from google.colab import drive #for loading gdrive data\n",
        "from google.colab import files\n",
        "\n",
        "# install dependencies not included by Colab\n",
        "# use pip3 to ensure compatibility w/ Google Deep Learning Images \n",
        "!pip3 install -q pydicom \n",
        "!pip3 install -q tqdm \n",
        "!pip3 install -q imgaug\n",
        "!pip3 install -q pickle5\n",
        "#for beautifulsoup\n",
        "!pip3 -q install beautifulsoup4\n",
        "\n",
        "#for lmxl parser\n",
        "!pip3 -q install lxml\n",
        "\n",
        "import pydicom #to read dicom files\n",
        "from pydicom import dcmread\n",
        "import pickle5 as pickle; #generic storage of image array\n",
        "import shutil #copy file libraries\n",
        "\n",
        "################################################################################\n",
        "# Load data from google drive\n",
        "################################################################################\n",
        "drive.mount('/content/gdrive')\n",
        "\n",
        "#\n",
        "# Setup of input and output drives\n",
        "#\n",
        "\n",
        "#\n",
        "# Choose training sets to use\n",
        "#\n",
        "training_set = 0 #0=UCLA US, 1 = UCLA + BUSI, 2 = BUSI\n",
        "\n",
        "#storage areas \n",
        "data_dir = '/content/gdrive/Shareddrives/BreastUS'\n",
        "local_dir = '/content/gdrive/My Drive/BreastUS' #for local storage\n",
        "model_dir = '/content/gdrive/My Drive/BreastUS/MODEL_SAVE'\n",
        "tensorboard_dir =  '/content/gdrive/My Drive/BreastUS/TENSORBOARD_SUMMARIES'\n",
        "\n",
        "\n",
        "#\n",
        "# UCLA specific data folders\n",
        "#\n",
        "csv_dir = os.path.join(data_dir,'Annotated data')\n",
        "\n",
        "annotated_dir = os.path.join(data_dir,'Annotated data')\n",
        "\n",
        "data_files = os.listdir(annotated_dir)\n",
        "label_data_dir = os.path.join(annotated_dir,'LabelMe_3.0_format_updated')\n",
        "label_files = os.listdir(label_data_dir)\n",
        "\n",
        "#\n",
        "# Alternative set of Ultrasound data\n",
        "#\n",
        "busi_main_dir = '/content/gdrive/My Drive/BreastUS/BUSI_DATA' #downloaded BUSI\n",
        "\n",
        "#output converted BUSI images go in here:\n",
        "norm_dir = '0TO1NORM'  #-2 to 2 norm method is N2TO2_NORM\\\n",
        "\n",
        "busi_converted_main_dir = os.path.join('/content/gdrive/My Drive/BreastUS/',norm_dir,'BUSI_DATA_CONTRAST_EQUALIZED')\n",
        "ucla_converted_main_dir = os.path.join('/content/gdrive/My Drive/BreastUS/',norm_dir,'UCLA_DATA_CONTRAST_EQUALIZED')\n",
        "\n"
      ]
    },
    {
      "cell_type": "markdown",
      "source": [
        "# Extract Annotations from XML"
      ],
      "metadata": {
        "id": "q8U0d7LspaPi"
      }
    },
    {
      "cell_type": "code",
      "source": [
        "\n",
        "\n",
        "def extract_bb(full_file):\n",
        "    corner = []\n",
        " \n",
        "\n",
        "    #full_file = xml_list[30]\n",
        "    # Reading the data inside the xml file to a variable under the name  data\n",
        "    with open(full_file, 'r') as f:\n",
        "        data = f.read() \n",
        "\n",
        "\n",
        "    # Passing the stored data inside the beautifulsoup parser \n",
        "    bs_data = BeautifulSoup(data, 'xml') \n",
        "\n",
        "    # Finding all instances of tag   \n",
        "    nrows = bs_data.find_all('nrows') \n",
        "    ncols = bs_data.find_all('ncols') \n",
        "    boundingbox = bs_data.find_all('bounding_box')\n",
        "    xx = bs_data.find_all('x')\n",
        "    yy = bs_data.find_all('y')\n",
        "    #print(nrows) \n",
        "\n",
        "    #for ii in [nrows,ncols]:\n",
        "    #    print(ii[0])\n",
        "    #    print(ii[0].get_text())\n",
        "\n",
        "\n",
        "    xpoints=[]\n",
        "    ypoints=[]\n",
        "\n",
        "    for item in xx:\n",
        "        xpoints.append(int(float(item.text)))\n",
        "    for item in yy:\n",
        "        ypoints.append(int(float(item.text)))\n",
        "\n",
        "    max_points = 4\n",
        "    if ((len(xpoints)<max_points) or (len(ypoints)<max_points)):\n",
        "        print('Not enough annotations ',len(xpoints), len(ypoints))\n",
        "\n",
        "    else: #proceed to make new corner positions\n",
        "\n",
        "        \n",
        "        for num in range(0,4):\n",
        "            corner.append((ypoints[num],xpoints[num]))\n",
        "\n",
        "        #for item in boundingbox:\n",
        "        #    pt = item.find('pt').text\n",
        "        #    print('pt is ',pt)\n",
        "    return corner\n",
        "'''\n",
        "    stop\n",
        "########### Title #############\n",
        "required0 = soup.find_all(\"title\")\n",
        "title = []\n",
        "for i in required0:\n",
        "    title.append(i.get_text())\n",
        "\n",
        "# Using find() to extract attributes of the first instance of the tag \n",
        "b_name = bs_data.find('child', {'name':'Acer'}) \n",
        "print(b_name) \n",
        "\n",
        "# Extracting the data stored in a specific attribute of the `child` tag \n",
        "value = b_name.get('qty') \n",
        "print(value)\n",
        "'''"
      ],
      "metadata": {
        "colab": {
          "base_uri": "https://localhost:8080/",
          "height": 70
        },
        "id": "806-fSb2pVhL",
        "outputId": "cfaa2474-0b41-4926-8ed3-e99d7041c838"
      },
      "execution_count": 2,
      "outputs": [
        {
          "output_type": "execute_result",
          "data": {
            "text/plain": [
              "'\\n    stop\\n########### Title #############\\nrequired0 = soup.find_all(\"title\")\\ntitle = []\\nfor i in required0:\\n    title.append(i.get_text())\\n\\n# Using find() to extract attributes of the first instance of the tag \\nb_name = bs_data.find(\\'child\\', {\\'name\\':\\'Acer\\'}) \\nprint(b_name) \\n\\n# Extracting the data stored in a specific attribute of the `child` tag \\nvalue = b_name.get(\\'qty\\') \\nprint(value)\\n'"
            ],
            "application/vnd.google.colaboratory.intrinsic+json": {
              "type": "string"
            }
          },
          "metadata": {},
          "execution_count": 2
        }
      ]
    },
    {
      "cell_type": "code",
      "source": [
        "def get_csv_data(filename):\n",
        "    fields = []\n",
        "    rows = []\n",
        "\n",
        "    # reading csv file\n",
        "    with open(filename, 'r') as csvfile:\n",
        "        # creating a csv reader object\n",
        "        csvreader = csv.reader(csvfile)\n",
        "        \n",
        "        # extracting field names through first row\n",
        "        fields = next(csvreader)\n",
        "\n",
        "        # extracting each data row one by one\n",
        "        for row in csvreader:\n",
        "            rows.append(row)\n",
        "\n",
        "\n",
        "        # lines present\n",
        "        print(\"found rows: %d\"%(csvreader.line_num))\n",
        "    return fields, rows"
      ],
      "metadata": {
        "id": "54v0KxncNnSV"
      },
      "execution_count": 3,
      "outputs": []
    },
    {
      "cell_type": "code",
      "source": [
        "if (0):\n",
        "    from shutil import copytree\n",
        "\n",
        "    batch1_dir = os.path.join(annotated_dir, 'unzipped_updated')\n",
        "    batch2_dir = os.path.join(annotated_dir,'unzipped_Batch2')\n",
        "    output_dir = os.path.join(annotated_dir,'unzipped_updated_plus_Batch2')\n",
        "\n",
        "    batch1_list = os.listdir(batch1_dir)\n",
        "    batch2_list =os.listdir(batch2_dir)\n",
        "    full_input_list = []\n",
        "    for folder_name in batch1_list:\n",
        "        input_dir_name = os.path.join(batch1_dir,folder_name)\n",
        "        full_input_list.append(input_dir_name)\n",
        "\n",
        "    for folder_name in batch2_list:\n",
        "        input_dir_name = os.path.join(batch2_dir,folder_name)  \n",
        "        full_input_list.append(input_dir_name)\n",
        "\n",
        "    print(len(full_input_list))\n",
        "\n",
        "    docopy = 0\n",
        "    if (docopy == 1):\n",
        "        for input_folder in full_input_list:\n",
        "            #print(input_folder)\n",
        "            output_subdir = os.path.join(output_dir,os.path.basename(input_folder))\n",
        "            shutil.copytree(input_folder,output_subdir)\n",
        "            print('copied input_folder to output: ', input_folder)\n",
        "\n",
        "\n",
        "    print('Finished copying folders')\n",
        "    #shutil.copytree(\"sourcedir\", \"destination\")"
      ],
      "metadata": {
        "id": "FhCctvXlJ-Hd"
      },
      "execution_count": null,
      "outputs": []
    },
    {
      "cell_type": "code",
      "source": [
        "data_files\n",
        "#annotated_dir for batch2 area\n",
        "b2_dir = os.path.join(annotated_dir,'unzipped_Batch2')\n",
        "\n",
        "csv1 = 'annotations_updated_final.csv'\n",
        "csv_file = os.path.join(csv_dir,csv1)\n",
        "csv2='case_list_batch2_w_diagnosis.csv' #batch2 csv info\n",
        "csv2_file = os.path.join(data_dir,csv2)\n",
        "\n",
        "#\n",
        "# Get Batch2 CSV information to assign to new rows\n",
        "#\n",
        "fields2, rows2 = get_csv_data(csv2_file)\n",
        "fields, rows = get_csv_data(csv_file)\n",
        "\n",
        "#patient directories\n",
        "pdir = os.listdir(b2_dir)\n",
        "\n",
        "patient_data={}\n",
        "for pt_list in pdir:\n",
        "    print(pt_list)\n",
        "    patient_data[pt_list] ={}\n",
        "    \n",
        "\n",
        "    patient = os.path.join(b2_dir, pt_list)\n",
        "\n",
        "    #--- add in the remaining folders\n",
        "    #These batch2 datasets have a default/default path added\n",
        "    default = os.path.join(patient,'default','default')\n",
        "\n",
        "    if (os.path.exists(default) == True):\n",
        "        print('!!!! double default found !!!!')\n",
        "        pass\n",
        "    else:\n",
        "        #some folders may not have default/default, so remove one of them and go\n",
        "        default = os.path.join(patient,'default')\n",
        "\n",
        "    files = os.listdir(default)\n",
        "    print(default)\n",
        "    xml_list =[]\n",
        "    for ii in files:\n",
        "        \n",
        "        if ('.xml' in ii):\n",
        "            temp = ii.split('_')\n",
        "            number = re.findall('\\d+',temp[1])\n",
        "            frame_id = int(number[0])\n",
        "            \n",
        "            \n",
        "            full_xml_file = os.path.join(default,ii)\n",
        "            corner_data = extract_bb(full_xml_file)\n",
        "            patient_data[pt_list][frame_id] = corner_data\n",
        "            image_ii = ii.replace('.xml', '.png')\n",
        "            patient_data[pt_list]['image_path'] = os.path.join(default,image_ii)\n",
        "            print(corner_data)\n",
        "            #xml_list.append(os.path.join(default,ii))\n",
        "            \n",
        "\n"
      ],
      "metadata": {
        "id": "PWqA7QJvUa8w"
      },
      "execution_count": null,
      "outputs": []
    },
    {
      "cell_type": "code",
      "source": [
        "\n",
        "for pt in patient_data.keys():\n",
        "    frame_id = 0\n",
        "    print(pt, patient_data[pt])\n",
        "    print(pt)\n",
        "\n",
        "    #\n",
        "    # Get coded mrm, coded accession, and video id\n",
        "    #\n",
        "    name = pt.split('_')\n",
        "    print(name)\n",
        "    mrm = name[0] +'_'+ name[1]\n",
        "    mrm = mrm.upper()\n",
        "    acc = name[2] + '_' + name[3]\n",
        "    acc = acc.upper()\n",
        "    video_id = pt\n",
        "    image_path = patient_data[pt]['image_path']\n",
        "    box = patient_data[pt][frame_id]\n",
        "\n",
        "    #\n",
        "    # Get Info from Batch2 CSV\n",
        "    #\n",
        "    for row_vals in rows2:\n",
        "        if (mrm in row_vals[0]):\n",
        "            if (acc in row_vals[1]):\n",
        "                print('found a matching mrm/acc')\n",
        "                first50 = row_vals[4]\n",
        "                finaldiag = row_vals[2]\n",
        "                bxsite = row_vals[3]\n",
        "\n",
        "    if (len(first50) == 0):\n",
        "        #something went wrong with the comparison, kill this process\n",
        "        print('failed csv compare')\n",
        "        stop\n",
        "\n",
        "    print(mrm)\n",
        "    print(acc)\n",
        "    print(video_id)\n",
        "    row_data = [0,mrm, acc, video_id, image_path, box, finaldiag, bxsite, 'N/A',first50]\n",
        "    print(row_data)\n",
        "    print(patient_data[pt].keys())\n",
        "    stop\n",
        "\n",
        "    #\n",
        "    # Get the frame ids (keys) in order\n",
        "    #\n",
        "    klist=[]\n",
        "    for ii in patient_data[pt].keys():\n",
        "        klist.append(ii)\n",
        "        #print(ii)\n",
        "        #print(patient_data[pt][ii])\n",
        "    klist.sort()\n",
        "    print(klist)\n",
        "\n",
        "    for ii in klist:\n",
        "        print(ii,patient_data[pt][ii])\n",
        "\n",
        "    stop\n",
        "\n",
        "\n",
        "    # open the file in the write mode\n",
        "    f = open('path/to/csv_file', 'w')\n",
        "\n",
        "    # create the csv writer\n",
        "    writer = csv.writer(f)\n",
        "\n",
        "    # write a row to the csv file\n",
        "    writer.writerow(row)\n",
        "\n",
        "    # close the file\n",
        "    f.close()"
      ],
      "metadata": {
        "colab": {
          "base_uri": "https://localhost:8080/",
          "height": 411
        },
        "id": "464lY1fGYfIM",
        "outputId": "31c029c2-39da-47df-cef6-c018126aacf1"
      },
      "execution_count": 37,
      "outputs": [
        {
          "output_type": "stream",
          "name": "stdout",
          "text": [
            "1_87j68lw4_a_j9fg822f_2.mp4-2022_01_31_00_50_55-labelme 3.0.zip {10: [(188, 336), (188, 547), (357, 547), (357, 336)], 'image_path': '/content/gdrive/Shareddrives/BreastUS/Annotated data/unzipped_Batch2/1_87j68lw4_a_j9fg822f_2.mp4-2022_01_31_00_50_55-labelme 3.0.zip/default/frame_000067.png', 12: [(188, 336), (188, 547), (357, 547), (357, 336)], 4: [(214, 353), (214, 496), (359, 496), (359, 353)], 50: [(199, 348), (199, 529), (334, 529), (334, 348)], 45: [(199, 360), (199, 551), (339, 551), (339, 360)], 15: [(188, 319), (188, 547), (357, 547), (357, 319)], 62: [], 46: [(199, 350), (199, 551), (332, 551), (332, 350)], 25: [(176, 331), (176, 557), (341, 557), (341, 331)], 8: [(196, 357), (196, 533), (359, 533), (359, 357)], 18: [(181, 327), (181, 547), (357, 547), (357, 327)], 64: [], 56: [], 1: [(247, 364), (247, 496), (359, 496), (359, 364)], 24: [(176, 331), (176, 557), (343, 557), (343, 331)], 61: [], 35: [(176, 331), (176, 557), (343, 557), (343, 331)], 3: [(225, 354), (225, 496), (359, 496), (359, 354)], 48: [(199, 345), (199, 540), (336, 540), (336, 345)], 27: [(176, 331), (176, 557), (342, 557), (342, 331)], 55: [], 17: [(188, 316), (188, 547), (357, 547), (357, 316)], 13: [(188, 336), (188, 547), (357, 547), (357, 336)], 28: [(176, 331), (176, 557), (341, 557), (341, 331)], 14: [(188, 336), (188, 547), (357, 547), (357, 336)], 22: [(176, 331), (176, 557), (344, 557), (344, 331)], 36: [(199, 337), (199, 551), (340, 551), (340, 337)], 5: [(209, 357), (209, 533), (359, 533), (359, 357)], 7: [(199, 357), (199, 533), (359, 533), (359, 357)], 58: [], 39: [(199, 352), (199, 564), (340, 564), (340, 352)], 20: [(176, 331), (176, 557), (351, 557), (351, 331)], 16: [(188, 325), (188, 547), (357, 547), (357, 325)], 0: [], 54: [], 26: [(176, 331), (176, 557), (346, 557), (346, 331)], 60: [], 51: [(195, 394), (195, 528), (322, 528), (322, 394)], 2: [(247, 355), (247, 496), (359, 496), (359, 355)], 30: [(176, 331), (176, 557), (341, 557), (341, 331)], 69: [], 44: [(199, 361), (199, 551), (334, 551), (334, 361)], 11: [(188, 336), (188, 547), (357, 547), (357, 336)], 43: [(199, 370), (199, 551), (328, 551), (328, 370)], 19: [(183, 331), (183, 550), (350, 550), (350, 331)], 53: [(195, 394), (195, 528), (322, 528), (322, 394)], 6: [(211, 357), (211, 533), (359, 533), (359, 357)], 49: [(199, 341), (199, 530), (330, 530), (330, 341)], 21: [(176, 331), (176, 557), (346, 557), (346, 331)], 41: [(197, 357), (197, 552), (339, 552), (339, 357)], 68: [], 29: [(176, 331), (176, 557), (343, 557), (343, 331)], 37: [(199, 341), (199, 561), (340, 561), (340, 341)], 31: [(176, 331), (176, 557), (341, 557), (341, 331)], 9: [(188, 336), (188, 547), (357, 547), (357, 336)], 52: [(195, 394), (195, 528), (322, 528), (322, 394)], 57: [], 32: [(176, 331), (176, 557), (342, 557), (342, 331)], 66: [], 47: [(199, 344), (199, 551), (336, 551), (336, 344)], 23: [(176, 331), (176, 557), (345, 557), (345, 331)], 42: [(199, 355), (199, 557), (340, 557), (340, 355)], 40: [(199, 356), (199, 554), (340, 554), (340, 356)], 34: [(176, 331), (176, 557), (339, 557), (339, 331)], 63: [], 59: [], 38: [(199, 350), (199, 570), (340, 570), (340, 350)], 65: [], 33: [(176, 336), (176, 557), (348, 557), (348, 336)], 67: []}\n",
            "1_87j68lw4_a_j9fg822f_2.mp4-2022_01_31_00_50_55-labelme 3.0.zip\n",
            "['1', '87j68lw4', 'a', 'j9fg822f', '2.mp4-2022', '01', '31', '00', '50', '55-labelme 3.0.zip']\n",
            "found a matching mrm/acc\n",
            "1_87J68LW4\n",
            "A_J9FG822F\n",
            "1_87j68lw4_a_j9fg822f_2.mp4-2022_01_31_00_50_55-labelme 3.0.zip\n",
            "[0, '1_87J68LW4', 'A_J9FG822F', '1_87j68lw4_a_j9fg822f_2.mp4-2022_01_31_00_50_55-labelme 3.0.zip', '/content/gdrive/Shareddrives/BreastUS/Annotated data/unzipped_Batch2/1_87j68lw4_a_j9fg822f_2.mp4-2022_01_31_00_50_55-labelme 3.0.zip/default/frame_000067.png', [], 'Invasive ductal carcinoma, grade 2. Invasive tumor involves 60% of biopsy; largest contiguous focus: 8.0 mm.  Ductal carcinoma in situ (DCIS), intermediate nuclear grade with focal necrosis, cribriform type, involving 15% of biopsy.', 'Left Breast, 2:00, 5 cm FTN', 'N/A', 'M']\n",
            "dict_keys([10, 'image_path', 12, 4, 50, 45, 15, 62, 46, 25, 8, 18, 64, 56, 1, 24, 61, 35, 3, 48, 27, 55, 17, 13, 28, 14, 22, 36, 5, 7, 58, 39, 20, 16, 0, 54, 26, 60, 51, 2, 30, 69, 44, 11, 43, 19, 53, 6, 49, 21, 41, 68, 29, 37, 31, 9, 52, 57, 32, 66, 47, 23, 42, 40, 34, 63, 59, 38, 65, 33, 67])\n"
          ]
        },
        {
          "output_type": "error",
          "ename": "NameError",
          "evalue": "ignored",
          "traceback": [
            "\u001b[0;31m---------------------------------------------------------------------------\u001b[0m",
            "\u001b[0;31mNameError\u001b[0m                                 Traceback (most recent call last)",
            "\u001b[0;32m<ipython-input-37-f3f8f337d1c9>\u001b[0m in \u001b[0;36m<module>\u001b[0;34m()\u001b[0m\n\u001b[1;32m     40\u001b[0m     \u001b[0mprint\u001b[0m\u001b[0;34m(\u001b[0m\u001b[0mrow_data\u001b[0m\u001b[0;34m)\u001b[0m\u001b[0;34m\u001b[0m\u001b[0;34m\u001b[0m\u001b[0m\n\u001b[1;32m     41\u001b[0m     \u001b[0mprint\u001b[0m\u001b[0;34m(\u001b[0m\u001b[0mpatient_data\u001b[0m\u001b[0;34m[\u001b[0m\u001b[0mpt\u001b[0m\u001b[0;34m]\u001b[0m\u001b[0;34m.\u001b[0m\u001b[0mkeys\u001b[0m\u001b[0;34m(\u001b[0m\u001b[0;34m)\u001b[0m\u001b[0;34m)\u001b[0m\u001b[0;34m\u001b[0m\u001b[0;34m\u001b[0m\u001b[0m\n\u001b[0;32m---> 42\u001b[0;31m     \u001b[0mstop\u001b[0m\u001b[0;34m\u001b[0m\u001b[0;34m\u001b[0m\u001b[0m\n\u001b[0m\u001b[1;32m     43\u001b[0m \u001b[0;34m\u001b[0m\u001b[0m\n\u001b[1;32m     44\u001b[0m     \u001b[0;31m#\u001b[0m\u001b[0;34m\u001b[0m\u001b[0;34m\u001b[0m\u001b[0;34m\u001b[0m\u001b[0m\n",
            "\u001b[0;31mNameError\u001b[0m: name 'stop' is not defined"
          ]
        }
      ]
    },
    {
      "cell_type": "code",
      "source": [
        "len([])"
      ],
      "metadata": {
        "colab": {
          "base_uri": "https://localhost:8080/"
        },
        "id": "JE62Hb5lcewF",
        "outputId": "882bff11-eb9c-4b46-b0b1-f11c3cb160b7"
      },
      "execution_count": 34,
      "outputs": [
        {
          "output_type": "execute_result",
          "data": {
            "text/plain": [
              "0"
            ]
          },
          "metadata": {},
          "execution_count": 34
        }
      ]
    },
    {
      "cell_type": "code",
      "source": [
        "print(fields)\n",
        "print(fields2)\n",
        "print(len(rows))\n",
        "print(rows[0])\n",
        "print('---------------------')\n",
        "for rr in rows2:\n",
        "    print(rr)"
      ],
      "metadata": {
        "colab": {
          "base_uri": "https://localhost:8080/"
        },
        "id": "C_kJ5-Dc6agR",
        "outputId": "e7202193-fc1f-4e50-831e-db30e293f96a"
      },
      "execution_count": 15,
      "outputs": [
        {
          "output_type": "stream",
          "name": "stdout",
          "text": [
            "['', 'coded_mrn', 'coded_accession', 'video_id', 'frame_id', 'image_path', 'bounding box', 'Final Diagnosis', 'Bx Site', 'Final Diagnosis.1', 'First 50']\n",
            "['\\ufeffcoded_mrn', 'coded_accession', 'Final Diagnosis', 'Bx Site', 'Coded Diagnosis']\n",
            "8842\n",
            "['0', '1_076UP782', 'A_DCC4675O', '1_076up782_a_dcc4675o_0.mp4-2021_09_03_16_33_59-labelme 3.0.zip', '0', 'drive/MyDrive/Annotated data/unzipped_updated/1_076up782_a_dcc4675o_0.mp4-2021_09_03_16_33_59-labelme 3.0.zip/default/frame_000000.PNG', '[]', 'Breast tissue with pseudoangiomatous stromal hyperplasia (PASH)', 'Left Breast, 11:00, 1 cm FTN', 'Breast tissue with pseudoangiomatous stromal hyperplasia (PASH)', 'B']\n",
            "---------------------\n",
            "['1_Z97OU004', 'A_89K78944\\n', 'Complex fibroadenoma with sclerosing adenosis, apocrine metaplasia and microcysts', 'Right Breast, mass, 12:00, 5cm FTN', 'B']\n",
            "['1_7S6UGZFF', 'A_32N0Q57D\\n', 'Fibroepithelial lesion, most consistent with fibroadenoma ', 'Right Breast, mass, 11:00, 5cm FTN', 'B']\n",
            "['1_4SA4ZUV9', 'A_R5EV815D\\n', 'Invasive ductal carcinoma, Grade 1 with tubular features (15% of biopsy; 3.5 mm longest contiguous focus) arising in a radial scar. Modified Bloom Richardson Score: 3 of 9.', 'Right Breast, 10 o’clock, 12cm FTN', 'M']\n",
            "['1_D8G4KJW4', 'A_T56Q311S\\n', 'Fibroadenoma with mild usual hyperplasia and focal apocrine metaplasia', 'Right Breast, oval mass, 1:00, 4 cm FTN', 'B']\n",
            "['1_PQ8NN45N', 'A_X4G5X404\\n', 'Invasive ductal carcinoma, grade 2 (90% of biopsy, longest involved segment 7.5 mm). Modified Bloom and Richardson Score: 6 of 9.', 'Right Breast, 12:00, 6cm FTN', 'M']\n",
            "['1_Z5IXNHJ4', 'A_1TZU23A4\\n', 'Invasive ductal carcinoma with mucinous features, Grade 1. Modified Bloom-Richardson grade, score 5/9.', 'Right Breast, 2:00, 10 cm FTN', 'M']\n",
            "['1_47904K81', 'A_M549VX5D\\n', 'Invasive ductal carcinoma, grade 2 (80% of biopsy, longest segment 9mm). Modified Bloom and Richardson Score: 6 of 9.', 'Right Breast, 12:00, 4 cm FTN', 'M']\n",
            "['1_WP4JO0JF', 'A_021803U8\\n', 'Invasive lobular carcinoma, grade 1. Modified Bloom and Richardson Score: 6 of 9. ', 'Left Breast, 10:00, 8 cm FTN', 'M']\n",
            "['1_356OT874', 'A_VB0513KN\\n', 'Fibroepithelial lesion, most consistent with fibroadenoma', 'Left Breast, 1:00, 5 cm FTN', 'B']\n",
            "['1_76R1041B', 'A_1659467P\\n', 'Benign fibroepithelial lesion, favor fibroadenoma', 'Left Breast, 6:00', 'B']\n",
            "['1_9N226G4V', 'A_J71X8P20\\n', 'Consistent with fibroadenoma with pseudoangiomatous stromal hyperplasia (PASH) changes', 'Right Breast, 10:00, 14 cm FTN', 'B']\n",
            "['1_C8362BA6', 'A_D9H45P6N\\n', 'Fragments of fibroadenoma with focal calcification', 'Right Breast, 3:00, 1 cm FTN', 'B']\n",
            "['1_87J68LW4', 'A_J9FG822F\\n', 'Invasive ductal carcinoma, grade 2. Invasive tumor involves 60% of biopsy; largest contiguous focus: 8.0 mm.  Ductal carcinoma in situ (DCIS), intermediate nuclear grade with focal necrosis, cribriform type, involving 15% of biopsy.', 'Left Breast, 2:00, 5 cm FTN', 'M']\n",
            "['1_S8684RJF', 'A_H2VRV14E\\n', 'Invasive lobular carcinoma, grade 2. Modified Bloom and Richardson Score: 6 of 9. ', 'Right Breast, 10:00, 9 cm FTN', 'M']\n",
            "['1_EN9W0Q3L', 'A_Z4TP3894\\n', 'Invasive ductal carcinoma with micropapillary featrures, grade 2. Modified Bloom and Richardson Score:  6 of 9. ', 'Right Breast, 8:00, 3 cm FTN', 'M']\n",
            "['1_70QMT684', 'A_K2X7V6L8\\n', 'Fibroepithelial lesion, consistent with fibroadenoma', 'Right Breast, 10:00, 14 cm FTN', 'B']\n",
            "['1_F276ZY34', 'A_TV750J0N\\n', 'Invasive lobular carcinoma, grade 1. Modified Bloom and Richardson score of 5 out of 9.', 'Right Breast, 2:00, 7 cm FTN', 'M']\n",
            "['1_90D9I2AF', 'A_5I8J64V9\\n', 'Fibroadenoma', 'Right Breast, 3:00, 2 cm FTN', 'B']\n",
            "['1_R398P7CF', 'A_2Z7C25EB\\n', 'Invasive ductal carcinoma, grade 1.         ', 'Right Breast, 9:00, 7 cm FTN', 'M']\n",
            "['1_EOQVC78T', 'A_45ZR0FKN\\n', 'Fibroadenoma', 'Left Breast, 1:00, 9 cm FTN', 'B']\n",
            "['1_0ZW0M57R', 'A_975D6X64\\n', 'Invasive ductal carcinoma with lobular features, Grade 2 (90% of biopsy sample; longest contiguous focus 12 mm). Modified Bloom and Richardson score: 6 of 9.', 'Left Breast, 7:00, 5 cm FTN', 'M']\n",
            "['1_7IWA3X6J', 'A_6A8210BH\\n', 'Invasive ductal carcinoma, Grade 2 (60% of biopsy sample; longest contiguous focus 7 mm). Modified Bloom and Richardson score: 6 of 9.', 'Left Breast, 2:00, 2 cm FTN', 'M']\n",
            "['1_LHDSMIW4', 'A_0W9J3G5T\\n', 'Fibroepithelial lesion, consistent with fibroadenoma', 'Right Brest, 8:00, 6 cm FTN', 'B']\n",
            "['1_25851EJF', 'A_3ZBM0G76\\n', 'Fibroepithelial lesion, most consistent with fibroadenoma', 'Right Breast, 12:00, 4 cm FTN', 'B']\n",
            "['1_G2RN6TEF', 'A_79LNQVZ8\\n', 'Fibroadenoma with stromal hyalinization', 'Right Breast, 1:00, 5 cm FTN', 'B']\n",
            "['1_DGW51J3W', 'A_531R5JN5\\n', 'Fibroadenoma ', '', 'B']\n",
            "['1_1IXX390N', 'A_83807X4D\\n', 'Invasive ductal carcinoma, Grade 1. Modified Bloom and Richardson score 5 of 9. ', 'Left Breast, 9:00, 2 cm FTN', 'M']\n",
            "['1_5247DTNV', 'A_87UFD6LP\\n', 'Fibroepithelial lesion, consistent with fibroadenoma', '', 'B']\n",
            "['1_HJ282C4F', 'A_16VTA3S8\\n', 'Fibroadenoma', 'Left Breast, 1:00, 5 cm FTN', 'B']\n",
            "['1_4U573X42', 'A_3K55O0C8\\n', 'Invasive lobular carcinoma\\xa0with pleomorphic features, grade\\xa02. Modified Bloom and Richardson Score: 7 of 9 ', 'Left Breast, 2:00, 6 cm FTN', 'M']\n",
            "['1_4T6VSQ82', 'A_69H3OE65\\n', 'Invasive lobular carcinoma, grade 1 (20% of biopsy, longest segment 4 mm). Modified Bloom and Richardson Score: 5 of 9', 'Right Breast, 11:00, 12 cm FTN', 'M']\n",
            "['1_UN5MUA1B', 'A_G4H5A9D0\\n', 'Invasive ductal carcinoma, Grade 2 (50% of biopsy; longest contiguous segment 4 mm). Modified Bloom and Richardson score: 6 of 9.', 'Right Breast, 10:00, 2 cm FTN', 'M']\n",
            "['1_J67Y6Z82', 'A_4XW9S70R\\n', 'Invasive ductal carcinoma, grade 2 (70% of biopsy, longest segment 5 mm).            ', 'Right Breast, 11:00, 7 cm FTN', 'M']\n",
            "['1_2742383T', 'A_L3Y4L7P0\\n', 'Invasive ductal carcinoma, grade 3 (20% of biopsy, longest segment 5 mm).            Modified Bloom and Richardson Score: 8 of 9.', 'Right Breast, 10:00, 3 cm FTN', 'M']\n",
            "['1_R6EWMVGH', 'A_U4C2047O\\n', 'Fibroepithelial lesion with microcysts and adenosis, consistent with complex fibroadenoma', 'Right Breast, 1:00, 4 cm FTN', 'B']\n",
            "['1_4N85M689', 'A_W7940294\\n', 'Invasive ductal carcinoma, grade 2. Modified Bloom Richardson score: 6-7/9', 'Right Breast, 9:00, 5 cm FTN', 'M']\n",
            "['1_RZZ47262', 'A_R71SW354\\n', 'Fibroadenoma', 'Left Breast, 3:00, 1 cm FTN', 'B']\n",
            "['1_A16W1THF', 'A_J1TN44K8\\n', 'Fibroadenoma', 'Right Breast, 4:00, 7 cm FTN', 'B']\n",
            "['1_9GLO6T2Y', 'A_P7Y22IU8\\n', 'Consistent with fibroadenoma. Background breast shows pseudoangiomatous stromal hyperplasia (PASH), columnar cell change \\nand few microcysts.', 'Right Breast, 10:00, 8 cm FTN', 'B']\n",
            "['1_845S1010', 'A_9T266V59\\n', 'Invasive ductal carcinoma, grade 2. Ductal carcinoma in situ (DCIS), intermediate nuclear grade without necrosis, solid pattern, \\ninvolving <5% of biopsy.', 'Left Breast, 9:00, 7 cm FTN', 'M']\n",
            "['1_409XV6W4', 'A_20LX4ZP1\\n', 'Invasive ductal carcinoma, grade 2. Ductal carcinoma in situ (DCIS), intermediate nuclear grade without necrosis, solid type, involving\\n<5% of tumor.', 'Right Breast, 10:00, 5 cm FTN', 'M']\n",
            "['1_4L145MI2', 'A_291NE599\\n', 'Benign fibroepithelial lesion, favor fibroadenoma (see COMMENT): Recommend clinical and imaging correlation. Dr. Nicole Dawson has reviewed both Parts A and B, and she concurs with the diagnoses.', 'Right Breast, 9:00, 5 cm FTN', 'B']\n",
            "['1_6P8FXP84', 'A_HK842EZ5\\n', 'Hyalinized fibroadenoma', 'Right Breast, 11:00, 12cm FTN', 'B']\n",
            "['1_5R6OJB4J', 'A_HMKN4BHH\\n', 'Invasive ductal carcinoma, grade 1.  Invasive tumor involves 80% of biopsy; largest contiguous focus: 10 mm. Ductal carcinoma in situ (DCIS), low-to-intermediate nuclear grade without necrosis, solid and cribriform type, involving 5% of biopsy.', 'Left Breast, 12:00, 5cm FTN', 'M']\n"
          ]
        }
      ]
    },
    {
      "cell_type": "code",
      "source": [
        "temp= ii.split('_')\n",
        "number = re.findall('\\d+',temp[1])\n",
        "number = int(number[0])\n",
        "print(ii)\n",
        "print(number)"
      ],
      "metadata": {
        "colab": {
          "base_uri": "https://localhost:8080/"
        },
        "id": "-L1CDxfpjLsm",
        "outputId": "a3d70ecf-2b21-4934-c390-931722eef659"
      },
      "execution_count": 6,
      "outputs": [
        {
          "output_type": "stream",
          "name": "stdout",
          "text": [
            "frame_000010.xml\n",
            "10\n"
          ]
        }
      ]
    },
    {
      "cell_type": "code",
      "source": [
        "#!ls -lart '/content/gdrive/Shareddrives/BreastUS/Annotated data/unzipped_Batch2/1_pq8nn45n_a_x4g5x404_2.mp4-2022_01_10_00_50_42-labelme 3.0.zip'\n",
        "\n",
        "!ls -lart '/content/gdrive/Shareddrives/BreastUS/Annotated data/unzipped_Batch2/1_en9w0q3l_a_z4tp3894_2.mp4-2022_01_10_00_50_31-labelme 3.0.zip'"
      ],
      "metadata": {
        "colab": {
          "base_uri": "https://localhost:8080/"
        },
        "id": "FNr14V764ima",
        "outputId": "a824bebc-062b-43d8-dcfe-a2b9d38dad17"
      },
      "execution_count": 3,
      "outputs": [
        {
          "output_type": "stream",
          "name": "stdout",
          "text": [
            "total 4\n",
            "drwx------ 2 root root 4096 Mar 24 10:09 default\n"
          ]
        }
      ]
    },
    {
      "cell_type": "code",
      "source": [
        ""
      ],
      "metadata": {
        "id": "xLvW3JZWhqCe",
        "colab": {
          "base_uri": "https://localhost:8080/",
          "height": 70
        },
        "outputId": "dba6359e-6fc7-47f1-f1cc-a01f90ccbcff"
      },
      "execution_count": 21,
      "outputs": [
        {
          "output_type": "execute_result",
          "data": {
            "text/plain": [
              "'\\n    stop\\n########### Title #############\\nrequired0 = soup.find_all(\"title\")\\ntitle = []\\nfor i in required0:\\n    title.append(i.get_text())\\n\\n# Using find() to extract attributes of the first instance of the tag \\nb_name = bs_data.find(\\'child\\', {\\'name\\':\\'Acer\\'}) \\nprint(b_name) \\n\\n# Extracting the data stored in a specific attribute of the `child` tag \\nvalue = b_name.get(\\'qty\\') \\nprint(value)\\n'"
            ],
            "application/vnd.google.colaboratory.intrinsic+json": {
              "type": "string"
            }
          },
          "metadata": {},
          "execution_count": 21
        }
      ]
    },
    {
      "cell_type": "code",
      "source": [
        "xml_list"
      ],
      "metadata": {
        "colab": {
          "base_uri": "https://localhost:8080/"
        },
        "id": "4JS-aQf2eRRj",
        "outputId": "b0251f3b-3bff-4f7b-88df-3941326a2ee9"
      },
      "execution_count": null,
      "outputs": [
        {
          "output_type": "execute_result",
          "data": {
            "text/plain": [
              "['/content/gdrive/Shareddrives/BreastUS/Annotated data/unzipped_Batch2/1_9glo6t2y_a_p7y22iu8_2.mp4-2022_02_04_20_41_47-labelme 3.0.zip/default/default/frame_000010.xml',\n",
              " '/content/gdrive/Shareddrives/BreastUS/Annotated data/unzipped_Batch2/1_9glo6t2y_a_p7y22iu8_2.mp4-2022_02_04_20_41_47-labelme 3.0.zip/default/default/frame_000012.xml',\n",
              " '/content/gdrive/Shareddrives/BreastUS/Annotated data/unzipped_Batch2/1_9glo6t2y_a_p7y22iu8_2.mp4-2022_02_04_20_41_47-labelme 3.0.zip/default/default/frame_000086.xml',\n",
              " '/content/gdrive/Shareddrives/BreastUS/Annotated data/unzipped_Batch2/1_9glo6t2y_a_p7y22iu8_2.mp4-2022_02_04_20_41_47-labelme 3.0.zip/default/default/frame_000004.xml',\n",
              " '/content/gdrive/Shareddrives/BreastUS/Annotated data/unzipped_Batch2/1_9glo6t2y_a_p7y22iu8_2.mp4-2022_02_04_20_41_47-labelme 3.0.zip/default/default/frame_000088.xml',\n",
              " '/content/gdrive/Shareddrives/BreastUS/Annotated data/unzipped_Batch2/1_9glo6t2y_a_p7y22iu8_2.mp4-2022_02_04_20_41_47-labelme 3.0.zip/default/default/frame_000050.xml',\n",
              " '/content/gdrive/Shareddrives/BreastUS/Annotated data/unzipped_Batch2/1_9glo6t2y_a_p7y22iu8_2.mp4-2022_02_04_20_41_47-labelme 3.0.zip/default/default/frame_000045.xml',\n",
              " '/content/gdrive/Shareddrives/BreastUS/Annotated data/unzipped_Batch2/1_9glo6t2y_a_p7y22iu8_2.mp4-2022_02_04_20_41_47-labelme 3.0.zip/default/default/frame_000015.xml',\n",
              " '/content/gdrive/Shareddrives/BreastUS/Annotated data/unzipped_Batch2/1_9glo6t2y_a_p7y22iu8_2.mp4-2022_02_04_20_41_47-labelme 3.0.zip/default/default/frame_000062.xml',\n",
              " '/content/gdrive/Shareddrives/BreastUS/Annotated data/unzipped_Batch2/1_9glo6t2y_a_p7y22iu8_2.mp4-2022_02_04_20_41_47-labelme 3.0.zip/default/default/frame_000046.xml',\n",
              " '/content/gdrive/Shareddrives/BreastUS/Annotated data/unzipped_Batch2/1_9glo6t2y_a_p7y22iu8_2.mp4-2022_02_04_20_41_47-labelme 3.0.zip/default/default/frame_000025.xml',\n",
              " '/content/gdrive/Shareddrives/BreastUS/Annotated data/unzipped_Batch2/1_9glo6t2y_a_p7y22iu8_2.mp4-2022_02_04_20_41_47-labelme 3.0.zip/default/default/frame_000090.xml',\n",
              " '/content/gdrive/Shareddrives/BreastUS/Annotated data/unzipped_Batch2/1_9glo6t2y_a_p7y22iu8_2.mp4-2022_02_04_20_41_47-labelme 3.0.zip/default/default/frame_000078.xml',\n",
              " '/content/gdrive/Shareddrives/BreastUS/Annotated data/unzipped_Batch2/1_9glo6t2y_a_p7y22iu8_2.mp4-2022_02_04_20_41_47-labelme 3.0.zip/default/default/frame_000008.xml',\n",
              " '/content/gdrive/Shareddrives/BreastUS/Annotated data/unzipped_Batch2/1_9glo6t2y_a_p7y22iu8_2.mp4-2022_02_04_20_41_47-labelme 3.0.zip/default/default/frame_000018.xml',\n",
              " '/content/gdrive/Shareddrives/BreastUS/Annotated data/unzipped_Batch2/1_9glo6t2y_a_p7y22iu8_2.mp4-2022_02_04_20_41_47-labelme 3.0.zip/default/default/frame_000064.xml',\n",
              " '/content/gdrive/Shareddrives/BreastUS/Annotated data/unzipped_Batch2/1_9glo6t2y_a_p7y22iu8_2.mp4-2022_02_04_20_41_47-labelme 3.0.zip/default/default/frame_000082.xml',\n",
              " '/content/gdrive/Shareddrives/BreastUS/Annotated data/unzipped_Batch2/1_9glo6t2y_a_p7y22iu8_2.mp4-2022_02_04_20_41_47-labelme 3.0.zip/default/default/frame_000056.xml',\n",
              " '/content/gdrive/Shareddrives/BreastUS/Annotated data/unzipped_Batch2/1_9glo6t2y_a_p7y22iu8_2.mp4-2022_02_04_20_41_47-labelme 3.0.zip/default/default/frame_000074.xml',\n",
              " '/content/gdrive/Shareddrives/BreastUS/Annotated data/unzipped_Batch2/1_9glo6t2y_a_p7y22iu8_2.mp4-2022_02_04_20_41_47-labelme 3.0.zip/default/default/frame_000001.xml',\n",
              " '/content/gdrive/Shareddrives/BreastUS/Annotated data/unzipped_Batch2/1_9glo6t2y_a_p7y22iu8_2.mp4-2022_02_04_20_41_47-labelme 3.0.zip/default/default/frame_000070.xml',\n",
              " '/content/gdrive/Shareddrives/BreastUS/Annotated data/unzipped_Batch2/1_9glo6t2y_a_p7y22iu8_2.mp4-2022_02_04_20_41_47-labelme 3.0.zip/default/default/frame_000091.xml',\n",
              " '/content/gdrive/Shareddrives/BreastUS/Annotated data/unzipped_Batch2/1_9glo6t2y_a_p7y22iu8_2.mp4-2022_02_04_20_41_47-labelme 3.0.zip/default/default/frame_000093.xml',\n",
              " '/content/gdrive/Shareddrives/BreastUS/Annotated data/unzipped_Batch2/1_9glo6t2y_a_p7y22iu8_2.mp4-2022_02_04_20_41_47-labelme 3.0.zip/default/default/frame_000024.xml',\n",
              " '/content/gdrive/Shareddrives/BreastUS/Annotated data/unzipped_Batch2/1_9glo6t2y_a_p7y22iu8_2.mp4-2022_02_04_20_41_47-labelme 3.0.zip/default/default/frame_000095.xml',\n",
              " '/content/gdrive/Shareddrives/BreastUS/Annotated data/unzipped_Batch2/1_9glo6t2y_a_p7y22iu8_2.mp4-2022_02_04_20_41_47-labelme 3.0.zip/default/default/frame_000061.xml',\n",
              " '/content/gdrive/Shareddrives/BreastUS/Annotated data/unzipped_Batch2/1_9glo6t2y_a_p7y22iu8_2.mp4-2022_02_04_20_41_47-labelme 3.0.zip/default/default/frame_000094.xml',\n",
              " '/content/gdrive/Shareddrives/BreastUS/Annotated data/unzipped_Batch2/1_9glo6t2y_a_p7y22iu8_2.mp4-2022_02_04_20_41_47-labelme 3.0.zip/default/default/frame_000089.xml',\n",
              " '/content/gdrive/Shareddrives/BreastUS/Annotated data/unzipped_Batch2/1_9glo6t2y_a_p7y22iu8_2.mp4-2022_02_04_20_41_47-labelme 3.0.zip/default/default/frame_000096.xml',\n",
              " '/content/gdrive/Shareddrives/BreastUS/Annotated data/unzipped_Batch2/1_9glo6t2y_a_p7y22iu8_2.mp4-2022_02_04_20_41_47-labelme 3.0.zip/default/default/frame_000076.xml',\n",
              " '/content/gdrive/Shareddrives/BreastUS/Annotated data/unzipped_Batch2/1_9glo6t2y_a_p7y22iu8_2.mp4-2022_02_04_20_41_47-labelme 3.0.zip/default/default/frame_000035.xml',\n",
              " '/content/gdrive/Shareddrives/BreastUS/Annotated data/unzipped_Batch2/1_9glo6t2y_a_p7y22iu8_2.mp4-2022_02_04_20_41_47-labelme 3.0.zip/default/default/frame_000003.xml',\n",
              " '/content/gdrive/Shareddrives/BreastUS/Annotated data/unzipped_Batch2/1_9glo6t2y_a_p7y22iu8_2.mp4-2022_02_04_20_41_47-labelme 3.0.zip/default/default/frame_000048.xml',\n",
              " '/content/gdrive/Shareddrives/BreastUS/Annotated data/unzipped_Batch2/1_9glo6t2y_a_p7y22iu8_2.mp4-2022_02_04_20_41_47-labelme 3.0.zip/default/default/frame_000027.xml',\n",
              " '/content/gdrive/Shareddrives/BreastUS/Annotated data/unzipped_Batch2/1_9glo6t2y_a_p7y22iu8_2.mp4-2022_02_04_20_41_47-labelme 3.0.zip/default/default/frame_000080.xml',\n",
              " '/content/gdrive/Shareddrives/BreastUS/Annotated data/unzipped_Batch2/1_9glo6t2y_a_p7y22iu8_2.mp4-2022_02_04_20_41_47-labelme 3.0.zip/default/default/frame_000077.xml',\n",
              " '/content/gdrive/Shareddrives/BreastUS/Annotated data/unzipped_Batch2/1_9glo6t2y_a_p7y22iu8_2.mp4-2022_02_04_20_41_47-labelme 3.0.zip/default/default/frame_000055.xml',\n",
              " '/content/gdrive/Shareddrives/BreastUS/Annotated data/unzipped_Batch2/1_9glo6t2y_a_p7y22iu8_2.mp4-2022_02_04_20_41_47-labelme 3.0.zip/default/default/frame_000017.xml',\n",
              " '/content/gdrive/Shareddrives/BreastUS/Annotated data/unzipped_Batch2/1_9glo6t2y_a_p7y22iu8_2.mp4-2022_02_04_20_41_47-labelme 3.0.zip/default/default/frame_000013.xml',\n",
              " '/content/gdrive/Shareddrives/BreastUS/Annotated data/unzipped_Batch2/1_9glo6t2y_a_p7y22iu8_2.mp4-2022_02_04_20_41_47-labelme 3.0.zip/default/default/frame_000028.xml',\n",
              " '/content/gdrive/Shareddrives/BreastUS/Annotated data/unzipped_Batch2/1_9glo6t2y_a_p7y22iu8_2.mp4-2022_02_04_20_41_47-labelme 3.0.zip/default/default/frame_000087.xml',\n",
              " '/content/gdrive/Shareddrives/BreastUS/Annotated data/unzipped_Batch2/1_9glo6t2y_a_p7y22iu8_2.mp4-2022_02_04_20_41_47-labelme 3.0.zip/default/default/frame_000014.xml',\n",
              " '/content/gdrive/Shareddrives/BreastUS/Annotated data/unzipped_Batch2/1_9glo6t2y_a_p7y22iu8_2.mp4-2022_02_04_20_41_47-labelme 3.0.zip/default/default/frame_000022.xml',\n",
              " '/content/gdrive/Shareddrives/BreastUS/Annotated data/unzipped_Batch2/1_9glo6t2y_a_p7y22iu8_2.mp4-2022_02_04_20_41_47-labelme 3.0.zip/default/default/frame_000071.xml',\n",
              " '/content/gdrive/Shareddrives/BreastUS/Annotated data/unzipped_Batch2/1_9glo6t2y_a_p7y22iu8_2.mp4-2022_02_04_20_41_47-labelme 3.0.zip/default/default/frame_000036.xml',\n",
              " '/content/gdrive/Shareddrives/BreastUS/Annotated data/unzipped_Batch2/1_9glo6t2y_a_p7y22iu8_2.mp4-2022_02_04_20_41_47-labelme 3.0.zip/default/default/frame_000085.xml',\n",
              " '/content/gdrive/Shareddrives/BreastUS/Annotated data/unzipped_Batch2/1_9glo6t2y_a_p7y22iu8_2.mp4-2022_02_04_20_41_47-labelme 3.0.zip/default/default/frame_000005.xml',\n",
              " '/content/gdrive/Shareddrives/BreastUS/Annotated data/unzipped_Batch2/1_9glo6t2y_a_p7y22iu8_2.mp4-2022_02_04_20_41_47-labelme 3.0.zip/default/default/frame_000007.xml',\n",
              " '/content/gdrive/Shareddrives/BreastUS/Annotated data/unzipped_Batch2/1_9glo6t2y_a_p7y22iu8_2.mp4-2022_02_04_20_41_47-labelme 3.0.zip/default/default/frame_000058.xml',\n",
              " '/content/gdrive/Shareddrives/BreastUS/Annotated data/unzipped_Batch2/1_9glo6t2y_a_p7y22iu8_2.mp4-2022_02_04_20_41_47-labelme 3.0.zip/default/default/frame_000039.xml',\n",
              " '/content/gdrive/Shareddrives/BreastUS/Annotated data/unzipped_Batch2/1_9glo6t2y_a_p7y22iu8_2.mp4-2022_02_04_20_41_47-labelme 3.0.zip/default/default/frame_000020.xml',\n",
              " '/content/gdrive/Shareddrives/BreastUS/Annotated data/unzipped_Batch2/1_9glo6t2y_a_p7y22iu8_2.mp4-2022_02_04_20_41_47-labelme 3.0.zip/default/default/frame_000016.xml',\n",
              " '/content/gdrive/Shareddrives/BreastUS/Annotated data/unzipped_Batch2/1_9glo6t2y_a_p7y22iu8_2.mp4-2022_02_04_20_41_47-labelme 3.0.zip/default/default/frame_000000.xml',\n",
              " '/content/gdrive/Shareddrives/BreastUS/Annotated data/unzipped_Batch2/1_9glo6t2y_a_p7y22iu8_2.mp4-2022_02_04_20_41_47-labelme 3.0.zip/default/default/frame_000054.xml',\n",
              " '/content/gdrive/Shareddrives/BreastUS/Annotated data/unzipped_Batch2/1_9glo6t2y_a_p7y22iu8_2.mp4-2022_02_04_20_41_47-labelme 3.0.zip/default/default/frame_000026.xml',\n",
              " '/content/gdrive/Shareddrives/BreastUS/Annotated data/unzipped_Batch2/1_9glo6t2y_a_p7y22iu8_2.mp4-2022_02_04_20_41_47-labelme 3.0.zip/default/default/frame_000060.xml',\n",
              " '/content/gdrive/Shareddrives/BreastUS/Annotated data/unzipped_Batch2/1_9glo6t2y_a_p7y22iu8_2.mp4-2022_02_04_20_41_47-labelme 3.0.zip/default/default/frame_000051.xml',\n",
              " '/content/gdrive/Shareddrives/BreastUS/Annotated data/unzipped_Batch2/1_9glo6t2y_a_p7y22iu8_2.mp4-2022_02_04_20_41_47-labelme 3.0.zip/default/default/frame_000002.xml',\n",
              " '/content/gdrive/Shareddrives/BreastUS/Annotated data/unzipped_Batch2/1_9glo6t2y_a_p7y22iu8_2.mp4-2022_02_04_20_41_47-labelme 3.0.zip/default/default/frame_000083.xml',\n",
              " '/content/gdrive/Shareddrives/BreastUS/Annotated data/unzipped_Batch2/1_9glo6t2y_a_p7y22iu8_2.mp4-2022_02_04_20_41_47-labelme 3.0.zip/default/default/frame_000030.xml',\n",
              " '/content/gdrive/Shareddrives/BreastUS/Annotated data/unzipped_Batch2/1_9glo6t2y_a_p7y22iu8_2.mp4-2022_02_04_20_41_47-labelme 3.0.zip/default/default/frame_000069.xml',\n",
              " '/content/gdrive/Shareddrives/BreastUS/Annotated data/unzipped_Batch2/1_9glo6t2y_a_p7y22iu8_2.mp4-2022_02_04_20_41_47-labelme 3.0.zip/default/default/frame_000044.xml',\n",
              " '/content/gdrive/Shareddrives/BreastUS/Annotated data/unzipped_Batch2/1_9glo6t2y_a_p7y22iu8_2.mp4-2022_02_04_20_41_47-labelme 3.0.zip/default/default/frame_000011.xml',\n",
              " '/content/gdrive/Shareddrives/BreastUS/Annotated data/unzipped_Batch2/1_9glo6t2y_a_p7y22iu8_2.mp4-2022_02_04_20_41_47-labelme 3.0.zip/default/default/frame_000043.xml',\n",
              " '/content/gdrive/Shareddrives/BreastUS/Annotated data/unzipped_Batch2/1_9glo6t2y_a_p7y22iu8_2.mp4-2022_02_04_20_41_47-labelme 3.0.zip/default/default/frame_000019.xml',\n",
              " '/content/gdrive/Shareddrives/BreastUS/Annotated data/unzipped_Batch2/1_9glo6t2y_a_p7y22iu8_2.mp4-2022_02_04_20_41_47-labelme 3.0.zip/default/default/frame_000053.xml',\n",
              " '/content/gdrive/Shareddrives/BreastUS/Annotated data/unzipped_Batch2/1_9glo6t2y_a_p7y22iu8_2.mp4-2022_02_04_20_41_47-labelme 3.0.zip/default/default/frame_000006.xml',\n",
              " '/content/gdrive/Shareddrives/BreastUS/Annotated data/unzipped_Batch2/1_9glo6t2y_a_p7y22iu8_2.mp4-2022_02_04_20_41_47-labelme 3.0.zip/default/default/frame_000049.xml',\n",
              " '/content/gdrive/Shareddrives/BreastUS/Annotated data/unzipped_Batch2/1_9glo6t2y_a_p7y22iu8_2.mp4-2022_02_04_20_41_47-labelme 3.0.zip/default/default/frame_000084.xml',\n",
              " '/content/gdrive/Shareddrives/BreastUS/Annotated data/unzipped_Batch2/1_9glo6t2y_a_p7y22iu8_2.mp4-2022_02_04_20_41_47-labelme 3.0.zip/default/default/frame_000072.xml',\n",
              " '/content/gdrive/Shareddrives/BreastUS/Annotated data/unzipped_Batch2/1_9glo6t2y_a_p7y22iu8_2.mp4-2022_02_04_20_41_47-labelme 3.0.zip/default/default/frame_000021.xml',\n",
              " '/content/gdrive/Shareddrives/BreastUS/Annotated data/unzipped_Batch2/1_9glo6t2y_a_p7y22iu8_2.mp4-2022_02_04_20_41_47-labelme 3.0.zip/default/default/frame_000041.xml',\n",
              " '/content/gdrive/Shareddrives/BreastUS/Annotated data/unzipped_Batch2/1_9glo6t2y_a_p7y22iu8_2.mp4-2022_02_04_20_41_47-labelme 3.0.zip/default/default/frame_000068.xml',\n",
              " '/content/gdrive/Shareddrives/BreastUS/Annotated data/unzipped_Batch2/1_9glo6t2y_a_p7y22iu8_2.mp4-2022_02_04_20_41_47-labelme 3.0.zip/default/default/frame_000029.xml',\n",
              " '/content/gdrive/Shareddrives/BreastUS/Annotated data/unzipped_Batch2/1_9glo6t2y_a_p7y22iu8_2.mp4-2022_02_04_20_41_47-labelme 3.0.zip/default/default/frame_000037.xml',\n",
              " '/content/gdrive/Shareddrives/BreastUS/Annotated data/unzipped_Batch2/1_9glo6t2y_a_p7y22iu8_2.mp4-2022_02_04_20_41_47-labelme 3.0.zip/default/default/frame_000031.xml',\n",
              " '/content/gdrive/Shareddrives/BreastUS/Annotated data/unzipped_Batch2/1_9glo6t2y_a_p7y22iu8_2.mp4-2022_02_04_20_41_47-labelme 3.0.zip/default/default/frame_000009.xml',\n",
              " '/content/gdrive/Shareddrives/BreastUS/Annotated data/unzipped_Batch2/1_9glo6t2y_a_p7y22iu8_2.mp4-2022_02_04_20_41_47-labelme 3.0.zip/default/default/frame_000052.xml',\n",
              " '/content/gdrive/Shareddrives/BreastUS/Annotated data/unzipped_Batch2/1_9glo6t2y_a_p7y22iu8_2.mp4-2022_02_04_20_41_47-labelme 3.0.zip/default/default/frame_000081.xml',\n",
              " '/content/gdrive/Shareddrives/BreastUS/Annotated data/unzipped_Batch2/1_9glo6t2y_a_p7y22iu8_2.mp4-2022_02_04_20_41_47-labelme 3.0.zip/default/default/frame_000057.xml',\n",
              " '/content/gdrive/Shareddrives/BreastUS/Annotated data/unzipped_Batch2/1_9glo6t2y_a_p7y22iu8_2.mp4-2022_02_04_20_41_47-labelme 3.0.zip/default/default/frame_000073.xml',\n",
              " '/content/gdrive/Shareddrives/BreastUS/Annotated data/unzipped_Batch2/1_9glo6t2y_a_p7y22iu8_2.mp4-2022_02_04_20_41_47-labelme 3.0.zip/default/default/frame_000032.xml',\n",
              " '/content/gdrive/Shareddrives/BreastUS/Annotated data/unzipped_Batch2/1_9glo6t2y_a_p7y22iu8_2.mp4-2022_02_04_20_41_47-labelme 3.0.zip/default/default/frame_000066.xml',\n",
              " '/content/gdrive/Shareddrives/BreastUS/Annotated data/unzipped_Batch2/1_9glo6t2y_a_p7y22iu8_2.mp4-2022_02_04_20_41_47-labelme 3.0.zip/default/default/frame_000047.xml',\n",
              " '/content/gdrive/Shareddrives/BreastUS/Annotated data/unzipped_Batch2/1_9glo6t2y_a_p7y22iu8_2.mp4-2022_02_04_20_41_47-labelme 3.0.zip/default/default/frame_000023.xml',\n",
              " '/content/gdrive/Shareddrives/BreastUS/Annotated data/unzipped_Batch2/1_9glo6t2y_a_p7y22iu8_2.mp4-2022_02_04_20_41_47-labelme 3.0.zip/default/default/frame_000079.xml',\n",
              " '/content/gdrive/Shareddrives/BreastUS/Annotated data/unzipped_Batch2/1_9glo6t2y_a_p7y22iu8_2.mp4-2022_02_04_20_41_47-labelme 3.0.zip/default/default/frame_000042.xml',\n",
              " '/content/gdrive/Shareddrives/BreastUS/Annotated data/unzipped_Batch2/1_9glo6t2y_a_p7y22iu8_2.mp4-2022_02_04_20_41_47-labelme 3.0.zip/default/default/frame_000075.xml',\n",
              " '/content/gdrive/Shareddrives/BreastUS/Annotated data/unzipped_Batch2/1_9glo6t2y_a_p7y22iu8_2.mp4-2022_02_04_20_41_47-labelme 3.0.zip/default/default/frame_000040.xml',\n",
              " '/content/gdrive/Shareddrives/BreastUS/Annotated data/unzipped_Batch2/1_9glo6t2y_a_p7y22iu8_2.mp4-2022_02_04_20_41_47-labelme 3.0.zip/default/default/frame_000034.xml',\n",
              " '/content/gdrive/Shareddrives/BreastUS/Annotated data/unzipped_Batch2/1_9glo6t2y_a_p7y22iu8_2.mp4-2022_02_04_20_41_47-labelme 3.0.zip/default/default/frame_000092.xml',\n",
              " '/content/gdrive/Shareddrives/BreastUS/Annotated data/unzipped_Batch2/1_9glo6t2y_a_p7y22iu8_2.mp4-2022_02_04_20_41_47-labelme 3.0.zip/default/default/frame_000063.xml',\n",
              " '/content/gdrive/Shareddrives/BreastUS/Annotated data/unzipped_Batch2/1_9glo6t2y_a_p7y22iu8_2.mp4-2022_02_04_20_41_47-labelme 3.0.zip/default/default/frame_000059.xml',\n",
              " '/content/gdrive/Shareddrives/BreastUS/Annotated data/unzipped_Batch2/1_9glo6t2y_a_p7y22iu8_2.mp4-2022_02_04_20_41_47-labelme 3.0.zip/default/default/frame_000038.xml',\n",
              " '/content/gdrive/Shareddrives/BreastUS/Annotated data/unzipped_Batch2/1_9glo6t2y_a_p7y22iu8_2.mp4-2022_02_04_20_41_47-labelme 3.0.zip/default/default/frame_000065.xml',\n",
              " '/content/gdrive/Shareddrives/BreastUS/Annotated data/unzipped_Batch2/1_9glo6t2y_a_p7y22iu8_2.mp4-2022_02_04_20_41_47-labelme 3.0.zip/default/default/frame_000033.xml',\n",
              " '/content/gdrive/Shareddrives/BreastUS/Annotated data/unzipped_Batch2/1_9glo6t2y_a_p7y22iu8_2.mp4-2022_02_04_20_41_47-labelme 3.0.zip/default/default/frame_000067.xml']"
            ]
          },
          "metadata": {},
          "execution_count": 20
        }
      ]
    },
    {
      "cell_type": "code",
      "source": [
        "    print('starting UCLA conversion')\n",
        "    dbprint =0\n",
        "    full_pickle_list=[] #store files sent to pickle\n",
        "\n",
        "    print('--- Loading UCLA Data Files and Categorizing')\n",
        "    data_dirs = os.listdir(busi_main_dir)\n",
        "    print('UCLA directories: ', data_dirs)\n",
        "\n",
        "\n",
        "\n",
        "    annotation_fields, annotation_rows= get_ucla_csv(csv_dir)\n",
        "    array_rows, mrn, accession, video_id, frame_id, image_path, bounding_box, \\\n",
        "        diagnosis, biopsy_site, diagnosis2, first50 = sort_UCLA_csv(annotation_rows, annotation_fields)\n",
        "\n",
        "\n",
        "    ############################################################################\n",
        "    # Get Folder data\n",
        "    ############################################################################\n",
        "    full_file_list=[]\n",
        "\n",
        "    for file_path in image_path:\n",
        "        #print(file_path)\n",
        "\n",
        "        filename = os.path.basename(file_path) \n",
        "        [_,fpath] =file_path.split('drive/MyDrive/Annotated data/')\n",
        "        full_file = os.path.join(annotated_dir,fpath)\n",
        "        full_file_list.append(full_file)\n",
        "    print('Number of US files: ', len(full_file_list))\n",
        "    original_file_length = len(full_file_list)\n",
        "\n",
        "    video_stats(training_set, video_id, bounding_box)\n",
        "\n",
        "    ############################################################################\n",
        "    #\n",
        "    # Default string subsets for replacement for UCLA folders\n",
        "    # -to replace the CSV given names\n",
        "    old_string = '/content/gdrive/Shareddrives/BreastUS/Annotated data/unzipped_updated'\n",
        "    new_string = ucla_converted_main_dir\n",
        "\n"
      ],
      "metadata": {
        "id": "hyF7FVg1EviP"
      },
      "execution_count": null,
      "outputs": []
    }
  ]
}